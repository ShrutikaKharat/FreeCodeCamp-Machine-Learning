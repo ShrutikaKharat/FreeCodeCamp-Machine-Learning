{
  "cells": [
    {
      "cell_type": "markdown",
      "metadata": {
        "id": "Eg62Pmz3o83v"
      },
      "source": [
        "*Note: You are currently reading this using Google Colaboratory which is a cloud-hosted version of Jupyter Notebook. This is a document containing both text cells for documentation and runnable code cells. If you are unfamiliar with Jupyter Notebook, watch this 3-minute introduction before starting this challenge: https://www.youtube.com/watch?v=inN8seMm7UI*\n",
        "\n",
        "---\n",
        "\n",
        "In this challenge, you need to create a machine learning model that will classify SMS messages as either \"ham\" or \"spam\". A \"ham\" message is a normal message sent by a friend. A \"spam\" message is an advertisement or a message sent by a company.\n",
        "\n",
        "You should create a function called `predict_message` that takes a message string as an argument and returns a list. The first element in the list should be a number between zero and one that indicates the likeliness of \"ham\" (0) or \"spam\" (1). The second element in the list should be the word \"ham\" or \"spam\", depending on which is most likely.\n",
        "\n",
        "For this challenge, you will use the [SMS Spam Collection dataset](http://www.dt.fee.unicamp.br/~tiago/smsspamcollection/). The dataset has already been grouped into train data and test data.\n",
        "\n",
        "The first two cells import the libraries and data. The final cell tests your model and function. Add your code in between these cells.\n"
      ]
    },
    {
      "cell_type": "markdown",
      "source": [
        "# Imports"
      ],
      "metadata": {
        "id": "zvU2Yk8QdYvH"
      }
    },
    {
      "cell_type": "code",
      "execution_count": null,
      "metadata": {
        "id": "lMHwYXHXCar3",
        "colab": {
          "base_uri": "https://localhost:8080/"
        },
        "outputId": "1259aeb1-53fa-4d43-adc0-d6e62f48a4fa"
      },
      "outputs": [
        {
          "output_type": "stream",
          "name": "stdout",
          "text": [
            "--2022-01-14 12:03:11--  https://cdn.freecodecamp.org/project-data/sms/train-data.tsv\n",
            "Resolving cdn.freecodecamp.org (cdn.freecodecamp.org)... 104.26.2.33, 172.67.70.149, 104.26.3.33, ...\n",
            "Connecting to cdn.freecodecamp.org (cdn.freecodecamp.org)|104.26.2.33|:443... connected.\n",
            "HTTP request sent, awaiting response... 200 OK\n",
            "Length: 358233 (350K) [text/tab-separated-values]\n",
            "Saving to: ‘train-data.tsv.2’\n",
            "\n",
            "\rtrain-data.tsv.2      0%[                    ]       0  --.-KB/s               \rtrain-data.tsv.2    100%[===================>] 349.84K  --.-KB/s    in 0.03s   \n",
            "\n",
            "2022-01-14 12:03:11 (11.1 MB/s) - ‘train-data.tsv.2’ saved [358233/358233]\n",
            "\n",
            "--2022-01-14 12:03:11--  https://cdn.freecodecamp.org/project-data/sms/valid-data.tsv\n",
            "Resolving cdn.freecodecamp.org (cdn.freecodecamp.org)... 104.26.2.33, 172.67.70.149, 104.26.3.33, ...\n",
            "Connecting to cdn.freecodecamp.org (cdn.freecodecamp.org)|104.26.2.33|:443... connected.\n",
            "HTTP request sent, awaiting response... 200 OK\n",
            "Length: 118774 (116K) [text/tab-separated-values]\n",
            "Saving to: ‘valid-data.tsv.2’\n",
            "\n",
            "valid-data.tsv.2    100%[===================>] 115.99K  --.-KB/s    in 0.01s   \n",
            "\n",
            "2022-01-14 12:03:11 (9.74 MB/s) - ‘valid-data.tsv.2’ saved [118774/118774]\n",
            "\n"
          ]
        }
      ],
      "source": [
        "# get data files\n",
        "!wget https://cdn.freecodecamp.org/project-data/sms/train-data.tsv\n",
        "!wget https://cdn.freecodecamp.org/project-data/sms/valid-data.tsv\n",
        "\n",
        "train_file_path = \"train-data.tsv\"\n",
        "test_file_path = \"valid-data.tsv\""
      ]
    },
    {
      "cell_type": "markdown",
      "source": [
        "# Data Preprocessing"
      ],
      "metadata": {
        "id": "AT7wtZcodT2T"
      }
    },
    {
      "cell_type": "code",
      "execution_count": null,
      "metadata": {
        "id": "g_h508FEClxO"
      },
      "outputs": [],
      "source": [
        "import pandas as pd\n",
        "train_data = pd.read_csv(train_file_path, sep = '\\t', header = None, names = ('type', 'message'))\n",
        "test_data = pd.read_csv(test_file_path, sep = '\\t', header = None, names = ('type', 'message'))"
      ]
    },
    {
      "cell_type": "code",
      "execution_count": null,
      "metadata": {
        "id": "zOMKywn4zReN",
        "colab": {
          "base_uri": "https://localhost:8080/"
        },
        "outputId": "1583e31c-c95d-401c-e515-0345d6cacd3f"
      },
      "outputs": [
        {
          "output_type": "execute_result",
          "data": {
            "text/plain": [
              "(4179, 2)"
            ]
          },
          "metadata": {},
          "execution_count": 38
        }
      ],
      "source": [
        "train_data.shape"
      ]
    },
    {
      "cell_type": "code",
      "source": [
        "train_data.head()"
      ],
      "metadata": {
        "colab": {
          "base_uri": "https://localhost:8080/",
          "height": 206
        },
        "id": "HGRKw8LOfW-6",
        "outputId": "10a95794-2543-4e21-94de-811888fe2dd7"
      },
      "execution_count": null,
      "outputs": [
        {
          "output_type": "execute_result",
          "data": {
            "text/html": [
              "\n",
              "  <div id=\"df-9fc7dfbd-373a-4157-ab53-30ab400aa816\">\n",
              "    <div class=\"colab-df-container\">\n",
              "      <div>\n",
              "<style scoped>\n",
              "    .dataframe tbody tr th:only-of-type {\n",
              "        vertical-align: middle;\n",
              "    }\n",
              "\n",
              "    .dataframe tbody tr th {\n",
              "        vertical-align: top;\n",
              "    }\n",
              "\n",
              "    .dataframe thead th {\n",
              "        text-align: right;\n",
              "    }\n",
              "</style>\n",
              "<table border=\"1\" class=\"dataframe\">\n",
              "  <thead>\n",
              "    <tr style=\"text-align: right;\">\n",
              "      <th></th>\n",
              "      <th>type</th>\n",
              "      <th>message</th>\n",
              "    </tr>\n",
              "  </thead>\n",
              "  <tbody>\n",
              "    <tr>\n",
              "      <th>0</th>\n",
              "      <td>ham</td>\n",
              "      <td>ahhhh...just woken up!had a bad dream about u ...</td>\n",
              "    </tr>\n",
              "    <tr>\n",
              "      <th>1</th>\n",
              "      <td>ham</td>\n",
              "      <td>you can never do nothing</td>\n",
              "    </tr>\n",
              "    <tr>\n",
              "      <th>2</th>\n",
              "      <td>ham</td>\n",
              "      <td>now u sound like manky scouse boy steve,like! ...</td>\n",
              "    </tr>\n",
              "    <tr>\n",
              "      <th>3</th>\n",
              "      <td>ham</td>\n",
              "      <td>mum say we wan to go then go... then she can s...</td>\n",
              "    </tr>\n",
              "    <tr>\n",
              "      <th>4</th>\n",
              "      <td>ham</td>\n",
              "      <td>never y lei... i v lazy... got wat? dat day ü ...</td>\n",
              "    </tr>\n",
              "  </tbody>\n",
              "</table>\n",
              "</div>\n",
              "      <button class=\"colab-df-convert\" onclick=\"convertToInteractive('df-9fc7dfbd-373a-4157-ab53-30ab400aa816')\"\n",
              "              title=\"Convert this dataframe to an interactive table.\"\n",
              "              style=\"display:none;\">\n",
              "        \n",
              "  <svg xmlns=\"http://www.w3.org/2000/svg\" height=\"24px\"viewBox=\"0 0 24 24\"\n",
              "       width=\"24px\">\n",
              "    <path d=\"M0 0h24v24H0V0z\" fill=\"none\"/>\n",
              "    <path d=\"M18.56 5.44l.94 2.06.94-2.06 2.06-.94-2.06-.94-.94-2.06-.94 2.06-2.06.94zm-11 1L8.5 8.5l.94-2.06 2.06-.94-2.06-.94L8.5 2.5l-.94 2.06-2.06.94zm10 10l.94 2.06.94-2.06 2.06-.94-2.06-.94-.94-2.06-.94 2.06-2.06.94z\"/><path d=\"M17.41 7.96l-1.37-1.37c-.4-.4-.92-.59-1.43-.59-.52 0-1.04.2-1.43.59L10.3 9.45l-7.72 7.72c-.78.78-.78 2.05 0 2.83L4 21.41c.39.39.9.59 1.41.59.51 0 1.02-.2 1.41-.59l7.78-7.78 2.81-2.81c.8-.78.8-2.07 0-2.86zM5.41 20L4 18.59l7.72-7.72 1.47 1.35L5.41 20z\"/>\n",
              "  </svg>\n",
              "      </button>\n",
              "      \n",
              "  <style>\n",
              "    .colab-df-container {\n",
              "      display:flex;\n",
              "      flex-wrap:wrap;\n",
              "      gap: 12px;\n",
              "    }\n",
              "\n",
              "    .colab-df-convert {\n",
              "      background-color: #E8F0FE;\n",
              "      border: none;\n",
              "      border-radius: 50%;\n",
              "      cursor: pointer;\n",
              "      display: none;\n",
              "      fill: #1967D2;\n",
              "      height: 32px;\n",
              "      padding: 0 0 0 0;\n",
              "      width: 32px;\n",
              "    }\n",
              "\n",
              "    .colab-df-convert:hover {\n",
              "      background-color: #E2EBFA;\n",
              "      box-shadow: 0px 1px 2px rgba(60, 64, 67, 0.3), 0px 1px 3px 1px rgba(60, 64, 67, 0.15);\n",
              "      fill: #174EA6;\n",
              "    }\n",
              "\n",
              "    [theme=dark] .colab-df-convert {\n",
              "      background-color: #3B4455;\n",
              "      fill: #D2E3FC;\n",
              "    }\n",
              "\n",
              "    [theme=dark] .colab-df-convert:hover {\n",
              "      background-color: #434B5C;\n",
              "      box-shadow: 0px 1px 3px 1px rgba(0, 0, 0, 0.15);\n",
              "      filter: drop-shadow(0px 1px 2px rgba(0, 0, 0, 0.3));\n",
              "      fill: #FFFFFF;\n",
              "    }\n",
              "  </style>\n",
              "\n",
              "      <script>\n",
              "        const buttonEl =\n",
              "          document.querySelector('#df-9fc7dfbd-373a-4157-ab53-30ab400aa816 button.colab-df-convert');\n",
              "        buttonEl.style.display =\n",
              "          google.colab.kernel.accessAllowed ? 'block' : 'none';\n",
              "\n",
              "        async function convertToInteractive(key) {\n",
              "          const element = document.querySelector('#df-9fc7dfbd-373a-4157-ab53-30ab400aa816');\n",
              "          const dataTable =\n",
              "            await google.colab.kernel.invokeFunction('convertToInteractive',\n",
              "                                                     [key], {});\n",
              "          if (!dataTable) return;\n",
              "\n",
              "          const docLinkHtml = 'Like what you see? Visit the ' +\n",
              "            '<a target=\"_blank\" href=https://colab.research.google.com/notebooks/data_table.ipynb>data table notebook</a>'\n",
              "            + ' to learn more about interactive tables.';\n",
              "          element.innerHTML = '';\n",
              "          dataTable['output_type'] = 'display_data';\n",
              "          await google.colab.output.renderOutput(dataTable, element);\n",
              "          const docLink = document.createElement('div');\n",
              "          docLink.innerHTML = docLinkHtml;\n",
              "          element.appendChild(docLink);\n",
              "        }\n",
              "      </script>\n",
              "    </div>\n",
              "  </div>\n",
              "  "
            ],
            "text/plain": [
              "  type                                            message\n",
              "0  ham  ahhhh...just woken up!had a bad dream about u ...\n",
              "1  ham                           you can never do nothing\n",
              "2  ham  now u sound like manky scouse boy steve,like! ...\n",
              "3  ham  mum say we wan to go then go... then she can s...\n",
              "4  ham  never y lei... i v lazy... got wat? dat day ü ..."
            ]
          },
          "metadata": {},
          "execution_count": 39
        }
      ]
    },
    {
      "cell_type": "code",
      "source": [
        "train_data.info()"
      ],
      "metadata": {
        "colab": {
          "base_uri": "https://localhost:8080/"
        },
        "id": "D2JnASaJfW7d",
        "outputId": "affa1e02-679f-4d1b-8adf-1edab919b965"
      },
      "execution_count": null,
      "outputs": [
        {
          "output_type": "stream",
          "name": "stdout",
          "text": [
            "<class 'pandas.core.frame.DataFrame'>\n",
            "RangeIndex: 4179 entries, 0 to 4178\n",
            "Data columns (total 2 columns):\n",
            " #   Column   Non-Null Count  Dtype \n",
            "---  ------   --------------  ----- \n",
            " 0   type     4179 non-null   object\n",
            " 1   message  4179 non-null   object\n",
            "dtypes: object(2)\n",
            "memory usage: 65.4+ KB\n"
          ]
        }
      ]
    },
    {
      "cell_type": "code",
      "source": [
        "test_data.info()"
      ],
      "metadata": {
        "colab": {
          "base_uri": "https://localhost:8080/"
        },
        "id": "RDq5RSOTfW6Q",
        "outputId": "1cfb8740-93c3-4dfa-b12d-f2ff6a8dd845"
      },
      "execution_count": null,
      "outputs": [
        {
          "output_type": "stream",
          "name": "stdout",
          "text": [
            "<class 'pandas.core.frame.DataFrame'>\n",
            "RangeIndex: 1392 entries, 0 to 1391\n",
            "Data columns (total 2 columns):\n",
            " #   Column   Non-Null Count  Dtype \n",
            "---  ------   --------------  ----- \n",
            " 0   type     1392 non-null   object\n",
            " 1   message  1392 non-null   object\n",
            "dtypes: object(2)\n",
            "memory usage: 21.9+ KB\n"
          ]
        }
      ]
    },
    {
      "cell_type": "markdown",
      "source": [
        "# Stemming"
      ],
      "metadata": {
        "id": "EsXfZDRnj2Af"
      }
    },
    {
      "cell_type": "code",
      "source": [
        "from nltk.stem.porter import PorterStemmer\n",
        "from nltk.corpus import stopwords\n",
        "import re\n",
        "import nltk\n",
        "nltk.download('stopwords')"
      ],
      "metadata": {
        "colab": {
          "base_uri": "https://localhost:8080/"
        },
        "id": "TJU7mHxCfW2P",
        "outputId": "82f94d91-2a81-482c-d97b-f459aaa9149d"
      },
      "execution_count": null,
      "outputs": [
        {
          "output_type": "stream",
          "name": "stdout",
          "text": [
            "[nltk_data] Downloading package stopwords to /root/nltk_data...\n",
            "[nltk_data]   Package stopwords is already up-to-date!\n"
          ]
        },
        {
          "output_type": "execute_result",
          "data": {
            "text/plain": [
              "True"
            ]
          },
          "metadata": {},
          "execution_count": 42
        }
      ]
    },
    {
      "cell_type": "code",
      "source": [
        "port_stem = PorterStemmer()\n",
        "def stemming(argument):\n",
        "    stemmed_argument = re.sub('[^a-zA-Z]', ' ', argument)\n",
        "    stemmed_argument = stemmed_argument.lower()\n",
        "    stemmed_argument = stemmed_argument.split()\n",
        "    stemmed_argument = [port_stem.stem(word) for word in stemmed_argument if not word in stopwords.words('english')]\n",
        "    stemmed_argument = ' '.join(stemmed_argument)\n",
        "    return stemmed_argument"
      ],
      "metadata": {
        "id": "rDX5chUAfW0l"
      },
      "execution_count": null,
      "outputs": []
    },
    {
      "cell_type": "markdown",
      "source": [
        "Explanation of above function:\n",
        "\n",
        "* Line 1: It differentiates between alphabets and all other characters, i.e. it considers only characters a-z and A-Z from describe, and replace any other character by a space.\n",
        "* Line 2: It converts all letters into lower case.\n",
        "* Line 3: It splits the letters in respective lists.\n",
        "* Line 4: Now we stem each word all the non-stopwords.\n",
        "* Line 5: We join all the words using space.\n",
        "* Line 6: Return result."
      ],
      "metadata": {
        "id": "9HJwtysglgVE"
      }
    },
    {
      "cell_type": "code",
      "source": [
        "train_data['message'] = train_data['message'].apply(stemming)\n",
        "test_data['message'] = test_data['message'].apply(stemming)"
      ],
      "metadata": {
        "id": "7WIMd9HqfWxP"
      },
      "execution_count": null,
      "outputs": []
    },
    {
      "cell_type": "code",
      "source": [
        "train_data.head()"
      ],
      "metadata": {
        "colab": {
          "base_uri": "https://localhost:8080/",
          "height": 206
        },
        "id": "7Ji9xFW59vpd",
        "outputId": "633e2d26-3ded-441d-e78d-576d5a361517"
      },
      "execution_count": null,
      "outputs": [
        {
          "output_type": "execute_result",
          "data": {
            "text/html": [
              "\n",
              "  <div id=\"df-76910317-71c4-4033-b926-73f220f7c31f\">\n",
              "    <div class=\"colab-df-container\">\n",
              "      <div>\n",
              "<style scoped>\n",
              "    .dataframe tbody tr th:only-of-type {\n",
              "        vertical-align: middle;\n",
              "    }\n",
              "\n",
              "    .dataframe tbody tr th {\n",
              "        vertical-align: top;\n",
              "    }\n",
              "\n",
              "    .dataframe thead th {\n",
              "        text-align: right;\n",
              "    }\n",
              "</style>\n",
              "<table border=\"1\" class=\"dataframe\">\n",
              "  <thead>\n",
              "    <tr style=\"text-align: right;\">\n",
              "      <th></th>\n",
              "      <th>type</th>\n",
              "      <th>message</th>\n",
              "    </tr>\n",
              "  </thead>\n",
              "  <tbody>\n",
              "    <tr>\n",
              "      <th>0</th>\n",
              "      <td>ham</td>\n",
              "      <td>ahhhh woken bad dream u tho dont like u right ...</td>\n",
              "    </tr>\n",
              "    <tr>\n",
              "      <th>1</th>\n",
              "      <td>ham</td>\n",
              "      <td>never noth</td>\n",
              "    </tr>\n",
              "    <tr>\n",
              "      <th>2</th>\n",
              "      <td>ham</td>\n",
              "      <td>u sound like manki scous boy steve like travel...</td>\n",
              "    </tr>\n",
              "    <tr>\n",
              "      <th>3</th>\n",
              "      <td>ham</td>\n",
              "      <td>mum say wan go go shun bian watch da glass exh...</td>\n",
              "    </tr>\n",
              "    <tr>\n",
              "      <th>4</th>\n",
              "      <td>ham</td>\n",
              "      <td>never lei v lazi got wat dat day send da url c...</td>\n",
              "    </tr>\n",
              "  </tbody>\n",
              "</table>\n",
              "</div>\n",
              "      <button class=\"colab-df-convert\" onclick=\"convertToInteractive('df-76910317-71c4-4033-b926-73f220f7c31f')\"\n",
              "              title=\"Convert this dataframe to an interactive table.\"\n",
              "              style=\"display:none;\">\n",
              "        \n",
              "  <svg xmlns=\"http://www.w3.org/2000/svg\" height=\"24px\"viewBox=\"0 0 24 24\"\n",
              "       width=\"24px\">\n",
              "    <path d=\"M0 0h24v24H0V0z\" fill=\"none\"/>\n",
              "    <path d=\"M18.56 5.44l.94 2.06.94-2.06 2.06-.94-2.06-.94-.94-2.06-.94 2.06-2.06.94zm-11 1L8.5 8.5l.94-2.06 2.06-.94-2.06-.94L8.5 2.5l-.94 2.06-2.06.94zm10 10l.94 2.06.94-2.06 2.06-.94-2.06-.94-.94-2.06-.94 2.06-2.06.94z\"/><path d=\"M17.41 7.96l-1.37-1.37c-.4-.4-.92-.59-1.43-.59-.52 0-1.04.2-1.43.59L10.3 9.45l-7.72 7.72c-.78.78-.78 2.05 0 2.83L4 21.41c.39.39.9.59 1.41.59.51 0 1.02-.2 1.41-.59l7.78-7.78 2.81-2.81c.8-.78.8-2.07 0-2.86zM5.41 20L4 18.59l7.72-7.72 1.47 1.35L5.41 20z\"/>\n",
              "  </svg>\n",
              "      </button>\n",
              "      \n",
              "  <style>\n",
              "    .colab-df-container {\n",
              "      display:flex;\n",
              "      flex-wrap:wrap;\n",
              "      gap: 12px;\n",
              "    }\n",
              "\n",
              "    .colab-df-convert {\n",
              "      background-color: #E8F0FE;\n",
              "      border: none;\n",
              "      border-radius: 50%;\n",
              "      cursor: pointer;\n",
              "      display: none;\n",
              "      fill: #1967D2;\n",
              "      height: 32px;\n",
              "      padding: 0 0 0 0;\n",
              "      width: 32px;\n",
              "    }\n",
              "\n",
              "    .colab-df-convert:hover {\n",
              "      background-color: #E2EBFA;\n",
              "      box-shadow: 0px 1px 2px rgba(60, 64, 67, 0.3), 0px 1px 3px 1px rgba(60, 64, 67, 0.15);\n",
              "      fill: #174EA6;\n",
              "    }\n",
              "\n",
              "    [theme=dark] .colab-df-convert {\n",
              "      background-color: #3B4455;\n",
              "      fill: #D2E3FC;\n",
              "    }\n",
              "\n",
              "    [theme=dark] .colab-df-convert:hover {\n",
              "      background-color: #434B5C;\n",
              "      box-shadow: 0px 1px 3px 1px rgba(0, 0, 0, 0.15);\n",
              "      filter: drop-shadow(0px 1px 2px rgba(0, 0, 0, 0.3));\n",
              "      fill: #FFFFFF;\n",
              "    }\n",
              "  </style>\n",
              "\n",
              "      <script>\n",
              "        const buttonEl =\n",
              "          document.querySelector('#df-76910317-71c4-4033-b926-73f220f7c31f button.colab-df-convert');\n",
              "        buttonEl.style.display =\n",
              "          google.colab.kernel.accessAllowed ? 'block' : 'none';\n",
              "\n",
              "        async function convertToInteractive(key) {\n",
              "          const element = document.querySelector('#df-76910317-71c4-4033-b926-73f220f7c31f');\n",
              "          const dataTable =\n",
              "            await google.colab.kernel.invokeFunction('convertToInteractive',\n",
              "                                                     [key], {});\n",
              "          if (!dataTable) return;\n",
              "\n",
              "          const docLinkHtml = 'Like what you see? Visit the ' +\n",
              "            '<a target=\"_blank\" href=https://colab.research.google.com/notebooks/data_table.ipynb>data table notebook</a>'\n",
              "            + ' to learn more about interactive tables.';\n",
              "          element.innerHTML = '';\n",
              "          dataTable['output_type'] = 'display_data';\n",
              "          await google.colab.output.renderOutput(dataTable, element);\n",
              "          const docLink = document.createElement('div');\n",
              "          docLink.innerHTML = docLinkHtml;\n",
              "          element.appendChild(docLink);\n",
              "        }\n",
              "      </script>\n",
              "    </div>\n",
              "  </div>\n",
              "  "
            ],
            "text/plain": [
              "  type                                            message\n",
              "0  ham  ahhhh woken bad dream u tho dont like u right ...\n",
              "1  ham                                         never noth\n",
              "2  ham  u sound like manki scous boy steve like travel...\n",
              "3  ham  mum say wan go go shun bian watch da glass exh...\n",
              "4  ham  never lei v lazi got wat dat day send da url c..."
            ]
          },
          "metadata": {},
          "execution_count": 45
        }
      ]
    },
    {
      "cell_type": "code",
      "source": [
        "train_data['message'][2]"
      ],
      "metadata": {
        "colab": {
          "base_uri": "https://localhost:8080/",
          "height": 35
        },
        "id": "JwMYDhi7DJPJ",
        "outputId": "ef8756a3-12af-4247-ba2a-aa868fd35712"
      },
      "execution_count": null,
      "outputs": [
        {
          "output_type": "execute_result",
          "data": {
            "application/vnd.google.colaboratory.intrinsic+json": {
              "type": "string"
            },
            "text/plain": [
              "'u sound like manki scous boy steve like travel da bu home wot u inmind recreat di eve'"
            ]
          },
          "metadata": {},
          "execution_count": 46
        }
      ]
    },
    {
      "cell_type": "code",
      "source": [
        "max = 0\n",
        "for i in range(4179):\n",
        "  if max < len(train_data['message'][i]):\n",
        "    max = len(train_data['message'][i])\n",
        "max"
      ],
      "metadata": {
        "colab": {
          "base_uri": "https://localhost:8080/"
        },
        "id": "JN7yL65-C_PB",
        "outputId": "f77ec63a-62a6-4c80-a766-a0c350b19b4b"
      },
      "execution_count": null,
      "outputs": [
        {
          "output_type": "execute_result",
          "data": {
            "text/plain": [
              "412"
            ]
          },
          "metadata": {},
          "execution_count": 47
        }
      ]
    },
    {
      "cell_type": "markdown",
      "source": [
        "## Variable Extraction and Data Vectorization"
      ],
      "metadata": {
        "id": "u6hFKALCq7C7"
      }
    },
    {
      "cell_type": "code",
      "source": [
        "from sklearn.feature_extraction.text import TfidfVectorizer\n",
        "vectorizer = TfidfVectorizer()"
      ],
      "metadata": {
        "id": "ZGWKenDX94vA"
      },
      "execution_count": null,
      "outputs": []
    },
    {
      "cell_type": "code",
      "source": [
        "x_train = train_data['message'].values\n",
        "y_train = train_data['type'].values\n",
        "x_test = test_data['message'].values\n",
        "y_test = test_data['type'].values"
      ],
      "metadata": {
        "id": "1w095tD494tT"
      },
      "execution_count": null,
      "outputs": []
    },
    {
      "cell_type": "code",
      "source": [
        "type(x_train), x_train[0]"
      ],
      "metadata": {
        "colab": {
          "base_uri": "https://localhost:8080/"
        },
        "id": "cne3mQUfbndX",
        "outputId": "5a2b0807-4422-4e46-fd49-ab05d9d1dcb2"
      },
      "execution_count": null,
      "outputs": [
        {
          "output_type": "execute_result",
          "data": {
            "text/plain": [
              "(numpy.ndarray,\n",
              " 'ahhhh woken bad dream u tho dont like u right didnt know anyth comedi night guess im')"
            ]
          },
          "metadata": {},
          "execution_count": 50
        }
      ]
    },
    {
      "cell_type": "code",
      "source": [
        "vectorizer.fit(x_train)\n",
        "x_train = vectorizer.transform(x_train)\n",
        "x_test = vectorizer.transform(x_test)\n",
        "vectorizer_y = TfidfVectorizer()\n",
        "vectorizer_y.fit(y_train)\n",
        "y_train = vectorizer_y.transform(y_train)\n",
        "y_test = vectorizer_y.transform(y_test)"
      ],
      "metadata": {
        "id": "Zp6_kfEC94qi"
      },
      "execution_count": null,
      "outputs": []
    },
    {
      "cell_type": "code",
      "source": [
        "type(x_train), type(y_train)"
      ],
      "metadata": {
        "colab": {
          "base_uri": "https://localhost:8080/"
        },
        "id": "4HmMrbG294o6",
        "outputId": "aa190143-f173-48d5-c670-ea54811d38dd"
      },
      "execution_count": null,
      "outputs": [
        {
          "output_type": "execute_result",
          "data": {
            "text/plain": [
              "(scipy.sparse.csr.csr_matrix, scipy.sparse.csr.csr_matrix)"
            ]
          },
          "metadata": {},
          "execution_count": 52
        }
      ]
    },
    {
      "cell_type": "code",
      "source": [
        "x_train_np = x_train.toarray()\n",
        "y_train_np = y_train.toarray()\n",
        "x_test_np = x_test.toarray()\n",
        "y_test_np = y_test.toarray()"
      ],
      "metadata": {
        "id": "T1YZA_mMdUfV"
      },
      "execution_count": null,
      "outputs": []
    },
    {
      "cell_type": "code",
      "source": [
        "y_train_np[100]"
      ],
      "metadata": {
        "colab": {
          "base_uri": "https://localhost:8080/"
        },
        "id": "nvxQhgnGd4tW",
        "outputId": "b284706c-8377-4d35-cc98-4e75f071eb74"
      },
      "execution_count": null,
      "outputs": [
        {
          "output_type": "execute_result",
          "data": {
            "text/plain": [
              "array([1., 0.])"
            ]
          },
          "metadata": {},
          "execution_count": 54
        }
      ]
    },
    {
      "cell_type": "code",
      "source": [
        "x_train[0].shape"
      ],
      "metadata": {
        "colab": {
          "base_uri": "https://localhost:8080/"
        },
        "id": "yg2kUGbZkvpi",
        "outputId": "b905c0a0-9dd8-47a0-cc6c-088ceff2c4d7"
      },
      "execution_count": null,
      "outputs": [
        {
          "output_type": "execute_result",
          "data": {
            "text/plain": [
              "(1, 5412)"
            ]
          },
          "metadata": {},
          "execution_count": 82
        }
      ]
    },
    {
      "cell_type": "markdown",
      "source": [
        "# Neural Network Classifier"
      ],
      "metadata": {
        "id": "MVGUL1lGr_4e"
      }
    },
    {
      "cell_type": "code",
      "source": [
        "from tensorflow.keras.models import Sequential\n",
        "from tensorflow.keras.layers import Dense, Dropout"
      ],
      "metadata": {
        "id": "SmpMGlULr_fO"
      },
      "execution_count": null,
      "outputs": []
    },
    {
      "cell_type": "code",
      "source": [
        "model_mlp = Sequential()\n",
        "model_mlp.add(Dense(5412, input_shape = (None, 5412), activation = 'relu'))\n",
        "model_mlp.add(Dropout(0.5))\n",
        "model_mlp.add(Dense(2048, activation= 'relu'))\n",
        "model_mlp.add(Dropout(0.5))\n",
        "model_mlp.add(Dense(512, activation = 'relu'))\n",
        "model_mlp.add(Dropout(0.5))\n",
        "model_mlp.add(Dense(128, activation = 'relu'))\n",
        "model_mlp.add(Dropout(0.5))\n",
        "model_mlp.add(Dense(32, activation = 'relu'))\n",
        "model_mlp.add(Dropout(0.5))\n",
        "model_mlp.add(Dense(8, activation = 'relu'))\n",
        "model_mlp.add(Dropout(0.5))\n",
        "model_mlp.add(Dense(2, activation = 'softmax'))\n",
        "model_mlp.summary()"
      ],
      "metadata": {
        "colab": {
          "base_uri": "https://localhost:8080/"
        },
        "id": "2PKmZxvvr_bi",
        "outputId": "f693a449-e8d7-4ff6-c40f-8f3e0663220e"
      },
      "execution_count": null,
      "outputs": [
        {
          "output_type": "stream",
          "name": "stdout",
          "text": [
            "Model: \"sequential_4\"\n",
            "_________________________________________________________________\n",
            " Layer (type)                Output Shape              Param #   \n",
            "=================================================================\n",
            " dense_22 (Dense)            (None, None, 5412)        29295156  \n",
            "                                                                 \n",
            " dropout_18 (Dropout)        (None, None, 5412)        0         \n",
            "                                                                 \n",
            " dense_23 (Dense)            (None, None, 2048)        11085824  \n",
            "                                                                 \n",
            " dropout_19 (Dropout)        (None, None, 2048)        0         \n",
            "                                                                 \n",
            " dense_24 (Dense)            (None, None, 512)         1049088   \n",
            "                                                                 \n",
            " dropout_20 (Dropout)        (None, None, 512)         0         \n",
            "                                                                 \n",
            " dense_25 (Dense)            (None, None, 128)         65664     \n",
            "                                                                 \n",
            " dropout_21 (Dropout)        (None, None, 128)         0         \n",
            "                                                                 \n",
            " dense_26 (Dense)            (None, None, 32)          4128      \n",
            "                                                                 \n",
            " dropout_22 (Dropout)        (None, None, 32)          0         \n",
            "                                                                 \n",
            " dense_27 (Dense)            (None, None, 8)           264       \n",
            "                                                                 \n",
            " dropout_23 (Dropout)        (None, None, 8)           0         \n",
            "                                                                 \n",
            " dense_28 (Dense)            (None, None, 2)           18        \n",
            "                                                                 \n",
            "=================================================================\n",
            "Total params: 41,500,142\n",
            "Trainable params: 41,500,142\n",
            "Non-trainable params: 0\n",
            "_________________________________________________________________\n"
          ]
        }
      ]
    },
    {
      "cell_type": "code",
      "source": [
        "model_mlp.compile(loss = 'binary_crossentropy', optimizer = 'rmsprop', metrics = ['accuracy'])"
      ],
      "metadata": {
        "id": "xpzigDDDr_aC"
      },
      "execution_count": null,
      "outputs": []
    },
    {
      "cell_type": "code",
      "source": [
        "fit = model_mlp.fit(x_train_np, y_train_np, epochs = 20, validation_data = (x_test_np, y_test_np))"
      ],
      "metadata": {
        "colab": {
          "base_uri": "https://localhost:8080/"
        },
        "id": "8LTHY0Unr_Wc",
        "outputId": "8409a7ff-2d98-4638-8607-8c852020d826"
      },
      "execution_count": null,
      "outputs": [
        {
          "output_type": "stream",
          "name": "stdout",
          "text": [
            "Epoch 1/20\n",
            "131/131 [==============================] - 5s 40ms/step - loss: 0.0637 - accuracy: 0.9596 - val_loss: 0.8188 - val_accuracy: 0.9871\n",
            "Epoch 2/20\n",
            "131/131 [==============================] - 5s 39ms/step - loss: 0.0606 - accuracy: 0.9646 - val_loss: 1.0887 - val_accuracy: 0.9871\n",
            "Epoch 3/20\n",
            "131/131 [==============================] - 5s 39ms/step - loss: 0.0585 - accuracy: 0.9684 - val_loss: 0.8864 - val_accuracy: 0.9871\n",
            "Epoch 4/20\n",
            "131/131 [==============================] - 5s 39ms/step - loss: 0.0617 - accuracy: 0.9660 - val_loss: 1.0571 - val_accuracy: 0.9871\n",
            "Epoch 5/20\n",
            "131/131 [==============================] - 5s 39ms/step - loss: 0.0570 - accuracy: 0.9679 - val_loss: 0.8649 - val_accuracy: 0.9864\n",
            "Epoch 6/20\n",
            "131/131 [==============================] - 5s 40ms/step - loss: 0.0571 - accuracy: 0.9667 - val_loss: 1.0863 - val_accuracy: 0.9871\n",
            "Epoch 7/20\n",
            "131/131 [==============================] - 5s 40ms/step - loss: 0.0618 - accuracy: 0.9639 - val_loss: 0.9291 - val_accuracy: 0.9871\n",
            "Epoch 8/20\n",
            "131/131 [==============================] - 5s 40ms/step - loss: 0.0565 - accuracy: 0.9682 - val_loss: 0.9604 - val_accuracy: 0.9871\n",
            "Epoch 9/20\n",
            "131/131 [==============================] - 5s 40ms/step - loss: 0.0621 - accuracy: 0.9653 - val_loss: 0.9006 - val_accuracy: 0.9871\n",
            "Epoch 10/20\n",
            "131/131 [==============================] - 5s 40ms/step - loss: 0.0635 - accuracy: 0.9605 - val_loss: 0.9383 - val_accuracy: 0.9871\n",
            "Epoch 11/20\n",
            "131/131 [==============================] - 5s 40ms/step - loss: 0.0623 - accuracy: 0.9646 - val_loss: 0.9351 - val_accuracy: 0.9871\n",
            "Epoch 12/20\n",
            "131/131 [==============================] - 5s 40ms/step - loss: 0.0573 - accuracy: 0.9667 - val_loss: 0.8852 - val_accuracy: 0.9871\n",
            "Epoch 13/20\n",
            "131/131 [==============================] - 5s 40ms/step - loss: 0.0605 - accuracy: 0.9660 - val_loss: 0.8212 - val_accuracy: 0.9864\n",
            "Epoch 14/20\n",
            "131/131 [==============================] - 5s 40ms/step - loss: 0.0616 - accuracy: 0.9703 - val_loss: 0.8705 - val_accuracy: 0.9864\n",
            "Epoch 15/20\n",
            "131/131 [==============================] - 5s 39ms/step - loss: 0.0615 - accuracy: 0.9615 - val_loss: 0.9051 - val_accuracy: 0.9871\n",
            "Epoch 16/20\n",
            "131/131 [==============================] - 5s 39ms/step - loss: 0.0584 - accuracy: 0.9660 - val_loss: 1.1946 - val_accuracy: 0.9871\n",
            "Epoch 17/20\n",
            "131/131 [==============================] - 5s 40ms/step - loss: 0.0571 - accuracy: 0.9675 - val_loss: 1.0832 - val_accuracy: 0.9864\n",
            "Epoch 18/20\n",
            "131/131 [==============================] - 5s 40ms/step - loss: 0.0615 - accuracy: 0.9622 - val_loss: 1.1919 - val_accuracy: 0.9864\n",
            "Epoch 19/20\n",
            "131/131 [==============================] - 5s 40ms/step - loss: 0.0579 - accuracy: 0.9663 - val_loss: 1.4360 - val_accuracy: 0.9864\n",
            "Epoch 20/20\n",
            "131/131 [==============================] - 5s 39ms/step - loss: 0.0577 - accuracy: 0.9691 - val_loss: 1.3434 - val_accuracy: 0.9864\n"
          ]
        }
      ]
    },
    {
      "cell_type": "code",
      "source": [
        "predict_mlp = model_mlp.predict(x_test_np)"
      ],
      "metadata": {
        "id": "4h9x6pFSepaX"
      },
      "execution_count": null,
      "outputs": []
    },
    {
      "cell_type": "code",
      "source": [
        "predict_mlp[0][0]"
      ],
      "metadata": {
        "colab": {
          "base_uri": "https://localhost:8080/"
        },
        "id": "z0Y4TRUMf2j1",
        "outputId": "5274ec41-f400-429f-aa5e-c06069068b7c"
      },
      "execution_count": null,
      "outputs": [
        {
          "output_type": "execute_result",
          "data": {
            "text/plain": [
              "1.0"
            ]
          },
          "metadata": {},
          "execution_count": 93
        }
      ]
    },
    {
      "cell_type": "markdown",
      "source": [
        "# Final Evaluation"
      ],
      "metadata": {
        "id": "iELyRtscdbM_"
      }
    },
    {
      "cell_type": "code",
      "execution_count": null,
      "metadata": {
        "id": "J9tD9yACG6M9",
        "colab": {
          "base_uri": "https://localhost:8080/"
        },
        "outputId": "711ef75d-8eca-42ce-b0aa-f70c5c7ffc88"
      },
      "outputs": [
        {
          "output_type": "stream",
          "name": "stdout",
          "text": [
            "ham\n"
          ]
        }
      ],
      "source": [
        "# function to predict messages based on model\n",
        "# (should return list containing prediction and label, ex. [0.008318834938108921, 'ham'])\n",
        "def predict_message(pred_text):\n",
        "  data = [[pred_text]]\n",
        "  dataframe = pd.DataFrame(data, columns = ['message'])\n",
        "  x_temp = dataframe['message'].values\n",
        "  x_temp = vectorizer.transform(x_temp)\n",
        "  x_temp_np = x_temp.toarray()\n",
        "  pred = model_mlp.predict(x_temp_np)\n",
        "  if pred[0][0] == 1.0:\n",
        "    prediction = 'ham'\n",
        "  else:\n",
        "    prediction = 'spam'\n",
        "  return (prediction)\n",
        "\n",
        "pred_text = \"how are you doing today?\"\n",
        "\n",
        "prediction = predict_message(pred_text)\n",
        "print(prediction)"
      ]
    },
    {
      "cell_type": "code",
      "execution_count": null,
      "metadata": {
        "id": "Dxotov85SjsC",
        "colab": {
          "base_uri": "https://localhost:8080/"
        },
        "outputId": "f2632ce0-83bc-46d7-f387-d334691edd99"
      },
      "outputs": [
        {
          "output_type": "stream",
          "name": "stdout",
          "text": [
            "ham\n",
            "spam\n",
            "ham\n",
            "spam\n",
            "spam\n",
            "ham\n",
            "ham\n",
            "You passed the challenge. Great job!\n"
          ]
        }
      ],
      "source": [
        "# Run this cell to test your function and model. Do not modify contents.\n",
        "def test_predictions():\n",
        "  test_messages = [\"how are you doing today\",\n",
        "                   \"sale today! to stop texts call 98912460324\",\n",
        "                   \"i dont want to go. can we try it a different day? available sat\",\n",
        "                   \"our new mobile video service is live. just install on your phone to start watching.\",\n",
        "                   \"you have won £1000 cash! call to claim your prize.\",\n",
        "                   \"i'll bring it tomorrow. don't forget the milk.\",\n",
        "                   \"wow, is your arm alright. that happened to me one time too\"\n",
        "                  ]\n",
        "\n",
        "  test_answers = [\"ham\", \"spam\", \"ham\", \"spam\", \"spam\", \"ham\", \"ham\"]\n",
        "  passed = True\n",
        "\n",
        "  for msg, ans in zip(test_messages, test_answers):\n",
        "    prediction = predict_message(msg)\n",
        "    print(prediction)\n",
        "    if prediction != ans:\n",
        "      passed = False\n",
        "\n",
        "  if passed:\n",
        "    print(\"You passed the challenge. Great job!\")\n",
        "  else:\n",
        "    print(\"You haven't passed yet. Keep trying.\")\n",
        "\n",
        "test_predictions()\n"
      ]
    },
    {
      "cell_type": "code",
      "source": [
        ""
      ],
      "metadata": {
        "id": "5ttnTr7sk-JE"
      },
      "execution_count": null,
      "outputs": []
    }
  ],
  "metadata": {
    "colab": {
      "collapsed_sections": [],
      "name": "Copy of fcc_sms_text_classification.ipynb",
      "provenance": [],
      "toc_visible": true
    },
    "kernelspec": {
      "display_name": "Python 3",
      "name": "python3"
    },
    "language_info": {},
    "accelerator": "GPU"
  },
  "nbformat": 4,
  "nbformat_minor": 0
}